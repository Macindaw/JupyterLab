{
 "cells": [
  {
   "cell_type": "code",
   "execution_count": 1,
   "id": "ac9346a8-a7d1-462a-80ea-3ebff976dbaa",
   "metadata": {},
   "outputs": [
    {
     "name": "stdout",
     "output_type": "stream",
     "text": [
      "3.9.7\n"
     ]
    }
   ],
   "source": [
    "from matplotlib import pyplot as plt\n",
    "import numpy as np\n",
    "import pandas as pd\n",
    "from graphs import Graphs\n",
    "\n",
    "from platform import python_version\n",
    "print(python_version())\n"
   ]
  },
  {
   "cell_type": "markdown",
   "id": "dba7fe0e-35b5-47b4-81fb-38444c92a906",
   "metadata": {},
   "source": [
    "# Reading in the survey data from the csv file\n",
    "This will also prepare the data for graphing"
   ]
  },
  {
   "cell_type": "code",
   "execution_count": 2,
   "id": "cd60fb8f-a3e6-4305-8718-bc8819cc6310",
   "metadata": {},
   "outputs": [],
   "source": [
    "s_data = pd.read_csv('surveydata.csv')\n",
    "\n",
    "#Step 1 Localise the data\n",
    "title_data = \"How rested or refreshed do you feel when you wake up for the day?\"\n",
    "data_bar = s_data[title_data] #Note When Using How - usualy categorical data from 1-5, what is usaully some other type\n",
    "frequency = data_bar.value_counts(sort=False).sort_index(ascending=True).to_numpy() #Extracts the frequncy of responses per category\n",
    "ypos =  np.arange(len(frequency)) #Automatically assigns indexs for each number in the data\n",
    "\n",
    "temp = data_bar.unique() #Extracted range of different rows\n",
    "temp = np.sort(temp)  #Sorting Range into order\n"
   ]
  },
  {
   "cell_type": "markdown",
   "id": "166f5b57-89b5-4734-b951-25cf1fd426a7",
   "metadata": {
    "tags": []
   },
   "source": [
    "# Graphing a barchart"
   ]
  },
  {
   "cell_type": "code",
   "execution_count": 3,
   "id": "c9d78443-0938-41a8-b7af-86b0466b3a34",
   "metadata": {},
   "outputs": [
    {
     "ename": "TypeError",
     "evalue": "graph_bar() takes 6 positional arguments but 7 were given",
     "output_type": "error",
     "traceback": [
      "\u001b[1;31m---------------------------------------------------------------------------\u001b[0m",
      "\u001b[1;31mTypeError\u001b[0m                                 Traceback (most recent call last)",
      "\u001b[1;32m~\\AppData\\Local\\Temp/ipykernel_11148/1589969699.py\u001b[0m in \u001b[0;36m<module>\u001b[1;34m\u001b[0m\n\u001b[0;32m      4\u001b[0m \u001b[0mgph\u001b[0m \u001b[1;33m=\u001b[0m \u001b[0mGraphs\u001b[0m\u001b[1;33m(\u001b[0m\u001b[1;33m)\u001b[0m\u001b[1;33m\u001b[0m\u001b[1;33m\u001b[0m\u001b[0m\n\u001b[0;32m      5\u001b[0m \u001b[1;31m# gph.graph_bar(title=\"How rested or refreshed do you feel when you wake up for the day?\", title_x=\"Number of Responses\", title_y=\"Rating (Out of 5)\", data_x=frequency, data_y=ypos, label_y=temp)\u001b[0m\u001b[1;33m\u001b[0m\u001b[1;33m\u001b[0m\u001b[0m\n\u001b[1;32m----> 6\u001b[1;33m \u001b[0mgph\u001b[0m\u001b[1;33m.\u001b[0m\u001b[0mgraph_bar\u001b[0m\u001b[1;33m(\u001b[0m\u001b[1;34m\"How rested or refreshed do you feel when you wake up for the day?\"\u001b[0m\u001b[1;33m,\u001b[0m \u001b[1;34m\"Number of Responses\"\u001b[0m\u001b[1;33m,\u001b[0m \u001b[1;34m\"Rating (Out of 5)\"\u001b[0m\u001b[1;33m,\u001b[0m \u001b[0mfrequency\u001b[0m\u001b[1;33m,\u001b[0m \u001b[0mypos\u001b[0m\u001b[1;33m,\u001b[0m \u001b[0mtemp\u001b[0m\u001b[1;33m)\u001b[0m\u001b[1;33m\u001b[0m\u001b[1;33m\u001b[0m\u001b[0m\n\u001b[0m",
      "\u001b[1;31mTypeError\u001b[0m: graph_bar() takes 6 positional arguments but 7 were given"
     ]
    }
   ],
   "source": [
    "from graphs import Graphs\n",
    "\n",
    "\n",
    "gph = Graphs()\n",
    "# gph.graph_bar(title=\"How rested or refreshed do you feel when you wake up for the day?\", title_x=\"Number of Responses\", title_y=\"Rating (Out of 5)\", data_x=frequency, data_y=ypos, label_y=temp)\n",
    "gph.graph_bar(title=\"How rested or refreshed do you feel when you wake up for the day?\", title_x=\"Number of Responses\", title_y=\"Rating (Out of 5)\", data_x=frequency, label_y=temp)"
   ]
  },
  {
   "cell_type": "code",
   "execution_count": 4,
   "id": "a9810713-8110-439d-ac4a-4819f76593e2",
   "metadata": {},
   "outputs": [
    {
     "data": {
      "image/png": "[encoded data removed]",
      "text/plain": [
       "<Figure size 432x288 with 1 Axes>"
      ]
     },
     "metadata": {},
     "output_type": "display_data"
    }
   ],
   "source": [
    "gph.graph_pie(title=\"How rested or refreshed do you feel when you wake up for the day?\", data=frequency, labels=temp)"
   ]
  },
  {
   "cell_type": "code",
   "execution_count": null,
   "id": "e1827700-e46e-479f-a780-946b2e0c12f9",
   "metadata": {},
   "outputs": [],
   "source": []
  }
 ],
 "metadata": {
  "kernelspec": {
   "display_name": "Python 3 (ipykernel)",
   "language": "python",
   "name": "python3"
  },
  "language_info": {
   "codemirror_mode": {
    "name": "ipython",
    "version": 3
   },
   "file_extension": ".py",
   "mimetype": "text/x-python",
   "name": "python",
   "nbconvert_exporter": "python",
   "pygments_lexer": "ipython3",
   "version": "3.9.7"
  }
 },
 "nbformat": 4,
 "nbformat_minor": 5
}
