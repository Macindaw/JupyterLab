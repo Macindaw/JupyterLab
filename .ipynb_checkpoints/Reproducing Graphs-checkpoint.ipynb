{
 "cells": [
  {
   "cell_type": "code",
   "execution_count": 11,
   "id": "ac9346a8-a7d1-462a-80ea-3ebff976dbaa",
   "metadata": {},
   "outputs": [
    {
     "name": "stdout",
     "output_type": "stream",
     "text": [
      "3.9.7\n"
     ]
    }
   ],
   "source": [
    "%matplotlib widget\n",
    "\n",
    "from matplotlib import pyplot as plt\n",
    "import numpy as np\n",
    "import pandas as pd\n",
    "import json, re\n",
    "import seaborn as sns\n",
    "\n",
    "from graphs import Graphs\n",
    "\n",
    "from platform import python_version\n",
    "print(python_version())\n"
   ]
  },
  {
   "cell_type": "markdown",
   "id": "bcd725d7-a7fd-48ec-b879-ee6e00c0122f",
   "metadata": {},
   "source": [
    "# Reading in Survey Questions"
   ]
  },
  {
   "cell_type": "code",
   "execution_count": 12,
   "id": "d9dcf7b5-7578-402b-8529-7fc24f8568e4",
   "metadata": {},
   "outputs": [
    {
     "name": "stdout",
     "output_type": "stream",
     "text": [
      "{'What is your gender?': ['Male', 'Female', 'Non-binary', 'Prefer not to say'], 'During your daytime activities, how much of a problem do you have with sleepiness?': ['No problem at all', 'A little problem', 'More than a little problem', 'A big problem', 'A very big problem'], 'What is the main reason you go to bed at this time on weekdays?': ['My parent / carer has set my bedtime', 'I feel sleepy', 'I finish my homework', 'My TV shows are over', 'My brother or sister go to bed', 'I finish socialising', 'I get home from my job', 'Other'], 'What is the main reason you wake up at this time on weekdays?': ['Noises or my pet wakes me up', 'My alarm clock wakes me up', 'My parent/carer or another family member wakes me up', 'I need to go to the bathroom', 'I donâ€™t know, I just wake up', 'Other'], 'How would you rate the quality of your sleep?': ['Very Poor', 'Poor', 'Fair', 'Good', 'Very Good'], 'What external factors influenced how well you slept last night?': ['Family/people disturbance', 'Pet disturbance', 'Noises outside your home', 'Room too hot/cold', 'Phone/technology noise or light', 'Other', 'None'], 'How rested or refreshed do you feel when you wake up for the day?': ['Not at all rested', 'Slightly rested', 'Somewhat rested', 'Well-rested', 'Very-well rested'], 'Are you free to wake up when you want on weekends?': ['Yes', 'No'], 'Each weekday, how many hours on average do you use technology (outside of school)?': ['1 hour or less', '1-2 hours', '3-4 hours', '5-6 hours', '7-8 hours', '9 or more hours'], 'How often do you use technology during the last hour before you go to sleep?': ['Never', 'Once in a while', 'Sometimes', 'Quite often', 'Frequently if not always', 'Always'], 'How often do you use technology after you have gone to bed?': ['Never', 'Once in a while', 'Sometimes', 'Quite often', 'Frequently if not always', 'Always'], 'How often do you wake up at night from notifications?': ['Never', 'Once in a while', 'Sometimes', 'Quite often', 'Frequently if not always', 'Always'], 'If you did not have your sports or physical activity, would you go to bed earlier or later?': ['Earlier than you usually do', 'The same as you usually do', 'Later than you usually do'], 'If you did not have your sports or physical activity, would you wake up earlier or later?': ['Earlier than you usually do', 'The same as you usually do', 'Later than you usually do'], 'How often have you arrived late to class because you overslept?': ['Never', 'Once', 'Twice', 'Several Times', 'Everyday'], 'Currently, what are your grades in school mostly?': ['Aâ€™s', 'Aâ€™s and Bâ€™s', 'Bâ€™s', 'Bâ€™s and Câ€™s', 'Câ€™s', 'Câ€™s and Dâ€™s', 'Dâ€™s', 'Dâ€™s and Fâ€™s'], 'If you compare yourself to other people your age, how would you describe your health?': ['Poor', 'Fair', 'Good', 'Excellent'], 'How often do I go to bed and think about things I need to do?': ['Never', 'Once in a while', 'Sometimes', 'Quite often', 'Frequently if not always', 'Always'], 'How often do I go to bed and replay the dayâ€™s events over and over in my mind?': ['Never', 'Once in a while', 'Sometimes', 'Quite often', 'Frequently if not always', 'Always'], 'How often do I check my clock several times during the night?': ['Never', 'Once in a while', 'Sometimes', 'Quite often', 'Frequently if not always', 'Always'], 'During the 1 hour before bedtime, how often do things happen that make me feel strong emotions?': ['Never', 'Once in a while', 'Sometimes', 'Quite often', 'Frequently if not always', 'Always'], 'How often do I go to bed feeling upset?': ['Never', 'Once in a while', 'Sometimes', 'Quite often', 'Frequently if not always', 'Always'], 'How often do I go to bed and worry about things happening at home or at school?': ['Never', 'Once in a while', 'Sometimes', 'Quite often', 'Frequently if not always', 'Always']}\n",
      "23\n",
      "\n",
      "\n",
      "{'In which country are you currently located?': 'country', 'In which city are you currently located?': 'freetext', 'How old are you?': 'number', 'What time do you try to go to sleep?': 'timeOfDay', 'How long does it take you to fall asleep?': 'number', 'What time do you wake up?': 'timeOfDay', 'After falling asleep how long do you spend awake during the night?': 'number', 'On average, how long do you nap during each weekday?': 'number', 'What time does your (school) day start?': 'timeOfDay', 'On average, how long do you nap each Saturday and Sunday?': 'number', 'How many caffeinated drinks do you have during the day?': 'number', 'What time do you have your last caffeinated drink?': 'timeOfDay', 'How many days did you do sport/physical activity in the morning before school?': 'number', 'How many days did you do sport/physical activity in the afternoon after school?': 'number', 'How many days did you do sport/physical activity in the evening on school days?': 'number', 'How many days did you do sport/physical activity on the weekend?': 'number', 'How many days did you study/do homework in the morning before school?': 'number', 'How many days did you study/do homework in the afternoon after school?': 'number', 'How many days did you study/do homework in the evening on days that you have school?': 'number', 'How many days did you study/do homework on the weekend?': 'number', 'How many hours did you study/do homework?': 'number'}\n",
      "21\n"
     ]
    }
   ],
   "source": [
    "# https://stackoverflow.com/questions/46317639/how-can-i-handle-reading-a-json-file-in-it-that-has-comments-with-python/46317842\n",
    "# https://docs.python.org/3/tutorial/inputoutput.html\n",
    "\n",
    "with open('sleep.jsonc', 'r') as f:\n",
    "    s = f.read()\n",
    "s = str(s)\n",
    "\n",
    "jsonObject = json.loads(re.sub(\"//.*\",\"\",s,flags=re.MULTILINE))\n",
    "# print(jsonObject)\n",
    "\n",
    "# print(jsonObject['questions'])\n",
    "categorical_labels = {}\n",
    "other_labels = {}\n",
    "\n",
    "for i in jsonObject['questions']:\n",
    "    try: \n",
    "        # print(f' {i[\"text\"]}: {i[\"values\"]}')\n",
    "        if isinstance(i[\"values\"][0], dict): #Deal with categorical numberical data\n",
    "            tlist = []\n",
    "            for j in i[\"values\"]:\n",
    "                tlist.append(j[\"label\"])\n",
    "            categorical_labels[i[\"text\"]] = tlist\n",
    "        else:   #Deal with Other data\n",
    "            categorical_labels[i[\"text\"]] = i[\"values\"]\n",
    "    except:\n",
    "        other_labels[i[\"text\"]] = i[\"type\"]\n",
    "        pass\n",
    "#Want the Values column for each question if it exists\n",
    "print(categorical_labels)\n",
    "print(len(categorical_labels))\n",
    "print(f\"\\n\\n{other_labels}\")\n",
    "print(len(other_labels))\n"
   ]
  },
  {
   "cell_type": "markdown",
   "id": "dba7fe0e-35b5-47b4-81fb-38444c92a906",
   "metadata": {
    "tags": []
   },
   "source": [
    "# Reading in the survey data from the csv file\n",
    "This will also prepare the data for graphing"
   ]
  },
  {
   "cell_type": "code",
   "execution_count": 13,
   "id": "cd60fb8f-a3e6-4305-8718-bc8819cc6310",
   "metadata": {},
   "outputs": [],
   "source": [
    "s_data = pd.read_csv('surveydata.csv')\n",
    "\n",
    "#Step 1 Localise the data\n",
    "title_data = 'If you compare yourself to other people your age, how would you describe your health?'#\"How rested or refreshed do you feel when you wake up for the day?\"\n",
    "data_bar = s_data[title_data] #Note When Using How - usualy categorical data from 1-5, what is usaully some other type\n",
    "frequency = data_bar.value_counts(sort=False).sort_index(ascending=True).to_numpy() #Extracts the frequncy of responses per category\n",
    "ypos =  np.arange(len(frequency)) #Automatically assigns indexs for each number in the data\n"
   ]
  },
  {
   "cell_type": "markdown",
   "id": "166f5b57-89b5-4734-b951-25cf1fd426a7",
   "metadata": {
    "tags": []
   },
   "source": [
    "# Graphing a barchart"
   ]
  },
  {
   "cell_type": "code",
   "execution_count": 14,
   "id": "c9d78443-0938-41a8-b7af-86b0466b3a34",
   "metadata": {
    "tags": []
   },
   "outputs": [
    {
     "data": {
      "application/vnd.jupyter.widget-view+json": {
       "model_id": "2057f049ce924d94ac78c3467b740b5f",
       "version_major": 2,
       "version_minor": 0
      },
      "text/plain": [
       "Canvas(toolbar=Toolbar(toolitems=[('Home', 'Reset original view', 'home', 'home'), ('Back', 'Back to previous …"
      ]
     },
     "metadata": {},
     "output_type": "display_data"
    }
   ],
   "source": [
    "from graphs import Graphs\n",
    "\n",
    "\n",
    "gph = Graphs()\n",
    "\n",
    "gph.graph_bar(title=title_data, title_x=\"Number of Responses\", title_y=\"Criteria\", data_x=frequency, label_y=categorical_labels[title_data])"
   ]
  },
  {
   "cell_type": "code",
   "execution_count": 15,
   "id": "a9810713-8110-439d-ac4a-4819f76593e2",
   "metadata": {},
   "outputs": [
    {
     "data": {
      "application/vnd.jupyter.widget-view+json": {
       "model_id": "010e5a411fdb4a63a2dd8d6e8cedf093",
       "version_major": 2,
       "version_minor": 0
      },
      "text/plain": [
       "Canvas(toolbar=Toolbar(toolitems=[('Home', 'Reset original view', 'home', 'home'), ('Back', 'Back to previous …"
      ]
     },
     "metadata": {},
     "output_type": "display_data"
    }
   ],
   "source": [
    "gph.graph_pie(title=title_data, data=frequency, labels=categorical_labels[title_data])"
   ]
  },
  {
   "cell_type": "code",
   "execution_count": 16,
   "id": "6940030c-596c-4b49-ae70-9b5191558276",
   "metadata": {},
   "outputs": [
    {
     "data": {
      "application/vnd.jupyter.widget-view+json": {
       "model_id": "c441947c26d34e34b8a58c08697669ee",
       "version_major": 2,
       "version_minor": 0
      },
      "text/plain": [
       "Canvas(toolbar=Toolbar(toolitems=[('Home', 'Reset original view', 'home', 'home'), ('Back', 'Back to previous …"
      ]
     },
     "metadata": {},
     "output_type": "display_data"
    }
   ],
   "source": [
    "gph.graph_scatter(s_data[\"What time do you try to go to sleep?\"], s_data[\"How many days did you study/do homework in the evening on days that you have school?\"], title=\"test\")"
   ]
  },
  {
   "cell_type": "code",
   "execution_count": 17,
   "id": "c845fbb9-6a63-4834-a8cf-4dab843aed5b",
   "metadata": {},
   "outputs": [
    {
     "data": {
      "application/vnd.jupyter.widget-view+json": {
       "model_id": "131091272626452f8cff9c553e9c816e",
       "version_major": 2,
       "version_minor": 0
      },
      "text/plain": [
       "Canvas(toolbar=Toolbar(toolitems=[('Home', 'Reset original view', 'home', 'home'), ('Back', 'Back to previous …"
      ]
     },
     "metadata": {},
     "output_type": "display_data"
    }
   ],
   "source": [
    "gph.graph_box(s_data[\"What time do you try to go to sleep?\"])"
   ]
  },
  {
   "cell_type": "code",
   "execution_count": 18,
   "id": "9cf3047e-9643-4688-9c5c-0df870d76dca",
   "metadata": {},
   "outputs": [
    {
     "ename": "AttributeError",
     "evalue": "'Graphs' object has no attribute 'graph_loli'",
     "output_type": "error",
     "traceback": [
      "\u001b[1;31m---------------------------------------------------------------------------\u001b[0m",
      "\u001b[1;31mAttributeError\u001b[0m                            Traceback (most recent call last)",
      "\u001b[1;32m~\\AppData\\Local\\Temp/ipykernel_32636/2752403999.py\u001b[0m in \u001b[0;36m<module>\u001b[1;34m\u001b[0m\n\u001b[1;32m----> 1\u001b[1;33m \u001b[0mgph\u001b[0m\u001b[1;33m.\u001b[0m\u001b[0mgraph_loli\u001b[0m\u001b[1;33m(\u001b[0m\u001b[0ms_data\u001b[0m\u001b[1;33m[\u001b[0m\u001b[1;34m\"What time do you try to go to sleep?\"\u001b[0m\u001b[1;33m]\u001b[0m\u001b[1;33m)\u001b[0m\u001b[1;33m\u001b[0m\u001b[1;33m\u001b[0m\u001b[0m\n\u001b[0m",
      "\u001b[1;31mAttributeError\u001b[0m: 'Graphs' object has no attribute 'graph_loli'"
     ]
    }
   ],
   "source": [
    "gph.graph_loli(s_data[\"What time do you try to go to sleep?\"])"
   ]
  },
  {
   "cell_type": "code",
   "execution_count": null,
   "id": "35b90d83-c770-4e72-93f3-0ac3acfc65b0",
   "metadata": {},
   "outputs": [],
   "source": []
  }
 ],
 "metadata": {
  "kernelspec": {
   "display_name": "Python 3 (ipykernel)",
   "language": "python",
   "name": "python3"
  },
  "language_info": {
   "codemirror_mode": {
    "name": "ipython",
    "version": 3
   },
   "file_extension": ".py",
   "mimetype": "text/x-python",
   "name": "python",
   "nbconvert_exporter": "python",
   "pygments_lexer": "ipython3",
   "version": "3.9.7"
  }
 },
 "nbformat": 4,
 "nbformat_minor": 5
}
